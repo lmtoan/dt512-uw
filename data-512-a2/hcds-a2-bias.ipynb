{
 "cells": [
  {
   "cell_type": "code",
   "execution_count": 176,
   "metadata": {},
   "outputs": [],
   "source": [
    "import os, sys, requests, json\n",
    "import numpy as np\n",
    "import pandas as pd\n",
    "\n",
    "from IPython.display import display, HTML"
   ]
  },
  {
   "cell_type": "code",
   "execution_count": 173,
   "metadata": {},
   "outputs": [
    {
     "data": {
      "text/html": [
       "<style type=\"text/css\">\n",
       "    table.dataframe td, table.dataframe th {\n",
       "        border-style: solid;\n",
       "    }\n",
       "</style>"
      ],
      "text/plain": [
       "<IPython.core.display.HTML object>"
      ]
     },
     "metadata": {},
     "output_type": "display_data"
    }
   ],
   "source": [
    "%%HTML\n",
    "<style type=\"text/css\">\n",
    "    table.dataframe td, table.dataframe th {\n",
    "        border-style: solid;\n",
    "    }\n",
    "</style>"
   ]
  },
  {
   "cell_type": "markdown",
   "metadata": {},
   "source": [
    "1. Import and preprocess article and population data\n",
    "---"
   ]
  },
  {
   "cell_type": "code",
   "execution_count": 110,
   "metadata": {},
   "outputs": [],
   "source": [
    "\"\"\"\n",
    "The data files are downloaded in orig/\n",
    "Utilize the pd.read_csv methods to import the datasets into DataFrames\n",
    "\"\"\"\n",
    "page_df = pd.read_csv('orig/page_data.csv')\n",
    "population_df = pd.read_csv('orig/WPDS_2018_data.csv')"
   ]
  },
  {
   "cell_type": "code",
   "execution_count": 112,
   "metadata": {},
   "outputs": [
    {
     "data": {
      "text/html": [
       "<div>\n",
       "<style scoped>\n",
       "    .dataframe tbody tr th:only-of-type {\n",
       "        vertical-align: middle;\n",
       "    }\n",
       "\n",
       "    .dataframe tbody tr th {\n",
       "        vertical-align: top;\n",
       "    }\n",
       "\n",
       "    .dataframe thead th {\n",
       "        text-align: right;\n",
       "    }\n",
       "</style>\n",
       "<table border=\"1\" class=\"dataframe\">\n",
       "  <thead>\n",
       "    <tr style=\"text-align: right;\">\n",
       "      <th></th>\n",
       "      <th>page</th>\n",
       "      <th>country</th>\n",
       "      <th>rev_id</th>\n",
       "    </tr>\n",
       "  </thead>\n",
       "  <tbody>\n",
       "    <tr>\n",
       "      <th>0</th>\n",
       "      <td>ZambiaProvincialMinisters</td>\n",
       "      <td>zambia</td>\n",
       "      <td>235107991</td>\n",
       "    </tr>\n",
       "    <tr>\n",
       "      <th>1</th>\n",
       "      <td>Bir I of Kanem</td>\n",
       "      <td>chad</td>\n",
       "      <td>355319463</td>\n",
       "    </tr>\n",
       "    <tr>\n",
       "      <th>2</th>\n",
       "      <td>Zimbabwe-politician-stub</td>\n",
       "      <td>zimbabwe</td>\n",
       "      <td>391862046</td>\n",
       "    </tr>\n",
       "    <tr>\n",
       "      <th>3</th>\n",
       "      <td>Uganda-politician-stub</td>\n",
       "      <td>uganda</td>\n",
       "      <td>391862070</td>\n",
       "    </tr>\n",
       "    <tr>\n",
       "      <th>4</th>\n",
       "      <td>Namibia-politician-stub</td>\n",
       "      <td>namibia</td>\n",
       "      <td>391862409</td>\n",
       "    </tr>\n",
       "  </tbody>\n",
       "</table>\n",
       "</div>"
      ],
      "text/plain": [
       "                        page   country     rev_id\n",
       "0  ZambiaProvincialMinisters    zambia  235107991\n",
       "1             Bir I of Kanem      chad  355319463\n",
       "2   Zimbabwe-politician-stub  zimbabwe  391862046\n",
       "3     Uganda-politician-stub    uganda  391862070\n",
       "4    Namibia-politician-stub   namibia  391862409"
      ]
     },
     "execution_count": 112,
     "metadata": {},
     "output_type": "execute_result"
    }
   ],
   "source": [
    "\"\"\"\n",
    "Preprocessing steps for page_df:\n",
    "    - Lower-case country to match with population_df later\n",
    "    - Remove filler words for page tittles \n",
    "\"\"\"\n",
    "page_df.loc[:, 'country'] = page_df.country.str.lower()\n",
    "page_df.loc[:, 'page'] = page_df.page.str.replace('Template:', '')\n",
    "page_df.head()"
   ]
  },
  {
   "cell_type": "code",
   "execution_count": 113,
   "metadata": {},
   "outputs": [],
   "source": [
    "\"\"\"\n",
    "Preprocessing steps for population_df:\n",
    "    - Lowercase 'Geography' column to match with 'country' column of page_df\n",
    "    - Rename column 'Population...' to 'population'\n",
    "    - Clean for '1,300' to '1300' and convert to float\n",
    "\"\"\"\n",
    "population_df.loc[:, 'Geography'] = population_df.Geography.str.lower()\n",
    "population_df.rename(columns={'Population mid-2018 (millions)': 'population'}, inplace=True)\n",
    "population_df.loc[:, 'population'] = population_df['population'].apply(lambda x: float(x.replace(',', '')))"
   ]
  },
  {
   "cell_type": "code",
   "execution_count": 114,
   "metadata": {},
   "outputs": [
    {
     "data": {
      "text/html": [
       "<div>\n",
       "<style scoped>\n",
       "    .dataframe tbody tr th:only-of-type {\n",
       "        vertical-align: middle;\n",
       "    }\n",
       "\n",
       "    .dataframe tbody tr th {\n",
       "        vertical-align: top;\n",
       "    }\n",
       "\n",
       "    .dataframe thead th {\n",
       "        text-align: right;\n",
       "    }\n",
       "</style>\n",
       "<table border=\"1\" class=\"dataframe\">\n",
       "  <thead>\n",
       "    <tr style=\"text-align: right;\">\n",
       "      <th></th>\n",
       "      <th>Geography</th>\n",
       "      <th>population</th>\n",
       "    </tr>\n",
       "  </thead>\n",
       "  <tbody>\n",
       "    <tr>\n",
       "      <th>0</th>\n",
       "      <td>africa</td>\n",
       "      <td>1284.0</td>\n",
       "    </tr>\n",
       "    <tr>\n",
       "      <th>1</th>\n",
       "      <td>algeria</td>\n",
       "      <td>42.7</td>\n",
       "    </tr>\n",
       "    <tr>\n",
       "      <th>2</th>\n",
       "      <td>egypt</td>\n",
       "      <td>97.0</td>\n",
       "    </tr>\n",
       "    <tr>\n",
       "      <th>3</th>\n",
       "      <td>libya</td>\n",
       "      <td>6.5</td>\n",
       "    </tr>\n",
       "    <tr>\n",
       "      <th>4</th>\n",
       "      <td>morocco</td>\n",
       "      <td>35.2</td>\n",
       "    </tr>\n",
       "  </tbody>\n",
       "</table>\n",
       "</div>"
      ],
      "text/plain": [
       "  Geography  population\n",
       "0    africa      1284.0\n",
       "1   algeria        42.7\n",
       "2     egypt        97.0\n",
       "3     libya         6.5\n",
       "4   morocco        35.2"
      ]
     },
     "execution_count": 114,
     "metadata": {},
     "output_type": "execute_result"
    }
   ],
   "source": [
    "population_df.head()"
   ]
  },
  {
   "cell_type": "code",
   "execution_count": 118,
   "metadata": {},
   "outputs": [
    {
     "name": "stdout",
     "output_type": "stream",
     "text": [
      "<class 'pandas.core.frame.DataFrame'>\n",
      "RangeIndex: 47197 entries, 0 to 47196\n",
      "Data columns (total 3 columns):\n",
      "page       47197 non-null object\n",
      "country    47197 non-null object\n",
      "rev_id     47197 non-null int64\n",
      "dtypes: int64(1), object(2)\n",
      "memory usage: 1.1+ MB\n",
      "None\n",
      "<class 'pandas.core.frame.DataFrame'>\n",
      "RangeIndex: 207 entries, 0 to 206\n",
      "Data columns (total 2 columns):\n",
      "Geography     207 non-null object\n",
      "population    207 non-null float64\n",
      "dtypes: float64(1), object(1)\n",
      "memory usage: 3.3+ KB\n",
      "None\n"
     ]
    }
   ],
   "source": [
    "\"\"\"\n",
    "Comments:\n",
    "    - There are 47,197 rows for page_df about articles\n",
    "    - There are 207 countries with population in population_df\n",
    "\"\"\"\n",
    "print(page_df.info())\n",
    "print(population_df.info())"
   ]
  },
  {
   "cell_type": "markdown",
   "metadata": {},
   "source": [
    "2. Retrieve article quality predictions\n",
    "---\n",
    "* The section goal is to retrieve the predicted quality scores for each Wikipedia article\n",
    "* The next code snippet to query [ORES (Objective Revision Evaluation Service) API](https://www.mediawiki.org/wiki/ORES) is sourced from https://github.com/Ironholds/data-512-a2/blob/master/hcds-a2-bias_demo.ipynb under the umbrella license mentioned in `README.md`"
   ]
  },
  {
   "cell_type": "code",
   "execution_count": 56,
   "metadata": {},
   "outputs": [],
   "source": [
    "headers = {\n",
    "    'User-Agent' : 'https://github.com/lmtoan', \n",
    "    'From' : 'toanlm@uw.edu'\n",
    "}\n",
    "\n",
    "def get_ores_data(revision_ids, headers):\n",
    "    \"\"\" \n",
    "    Originally sourced from https://github.com/Ironholds/data-512-a2/blob/master/hcds-a2-bias_demo.ipynb\n",
    "    \"\"\"\n",
    "    # Define the endpoint\n",
    "    endpoint = 'https://ores.wikimedia.org/v3/scores/{project}/?models={model}&revids={revids}'\n",
    "    \n",
    "    # Specify the parameters - smushing all the revision IDs together separated by | marks.\n",
    "    # Yes, 'smush' is a technical term, trust me I'm a scientist.\n",
    "    # What do you mean \"but people trusting scientists regularly goes horribly wrong\" who taught you tha- oh.  \n",
    "    params = {'project' : 'enwiki',\n",
    "              'model'   : 'wp10',\n",
    "              'revids'  : '|'.join(str(x) for x in revision_ids)\n",
    "              }\n",
    "    api_call = requests.get(endpoint.format(**params))\n",
    "    response = api_call.json()\n",
    "    return response"
   ]
  },
  {
   "cell_type": "code",
   "execution_count": 79,
   "metadata": {},
   "outputs": [
    {
     "data": {
      "application/vnd.jupyter.widget-view+json": {
       "model_id": "ff044bf673664df895d3f4dd6b997650",
       "version_major": 2,
       "version_minor": 0
      },
      "text/html": [
       "<p>Failed to display Jupyter Widget of type <code>HBox</code>.</p>\n",
       "<p>\n",
       "  If you're reading this message in the Jupyter Notebook or JupyterLab Notebook, it may mean\n",
       "  that the widgets JavaScript is still loading. If this message persists, it\n",
       "  likely means that the widgets JavaScript library is either not installed or\n",
       "  not enabled. See the <a href=\"https://ipywidgets.readthedocs.io/en/stable/user_install.html\">Jupyter\n",
       "  Widgets Documentation</a> for setup instructions.\n",
       "</p>\n",
       "<p>\n",
       "  If you're reading this message in another frontend (for example, a static\n",
       "  rendering on GitHub or <a href=\"https://nbviewer.jupyter.org/\">NBViewer</a>),\n",
       "  it may mean that your frontend doesn't currently support widgets.\n",
       "</p>\n"
      ],
      "text/plain": [
       "HBox(children=(IntProgress(value=0, max=944), HTML(value='')))"
      ]
     },
     "metadata": {},
     "output_type": "display_data"
    },
    {
     "name": "stdout",
     "output_type": "stream",
     "text": [
      "\n"
     ]
    }
   ],
   "source": [
    "\"\"\"\n",
    "The retrieve_ratings method perform the following:\n",
    "    - Spilt the page_df into sub_df of certain batch size (default at 50)\n",
    "    - Retrieve the rev_id for each sub_df and call the ORES API for json result\n",
    "    - Filter relevant result and skip rev_id with errors\n",
    "    - Extrapolate the result to appropriate columns including 'prediction' and probability scores\n",
    "    for each class\n",
    "\"\"\"\n",
    "from tqdm import tqdm_notebook\n",
    "def retrieve_ratings(df, batch_size=50):\n",
    "    df_collection = []\n",
    "    for start_point in tqdm_notebook(range(0, len(df), batch_size)):\n",
    "        end_point = start_point + batch_size\n",
    "        if end_point > len(df):\n",
    "            end_point = len(df)\n",
    "        sub_df = df[start_point:end_point]\n",
    "        rev_ids = sub_df.loc[:, 'rev_id'].values\n",
    "        resp = get_ores_data(rev_ids, headers)\n",
    "        for rid in rev_ids:\n",
    "            metadata = resp['enwiki']['scores'][str(rid)]['wp10'].get('score', None)\n",
    "            if metadata is not None:\n",
    "                df_collection.append(pd.DataFrame({\n",
    "                    'rev_id': rid,\n",
    "                    'prediction': metadata['prediction'],\n",
    "                    'probability_B': metadata['probability']['B'],\n",
    "                    'probability_C': metadata['probability']['C'],\n",
    "                    'probability_FA': metadata['probability']['FA'],\n",
    "                    'probability_GA': metadata['probability']['GA'],\n",
    "                    'probability_Start': metadata['probability']['Start'],\n",
    "                    'probability_Stub': metadata['probability']['Stub']\n",
    "                }, index=[0]))     \n",
    "    return pd.concat(df_collection)\n",
    "\n",
    "main_df = retrieve_ratings(page_df)"
   ]
  },
  {
   "cell_type": "markdown",
   "metadata": {},
   "source": [
    "3. Combining the datasets\n",
    "---\n",
    "After merging the ORES result (`main_df`) with`page_df`, and mapping population information with `population_df`, 44,973 rows are with valid return entries from ORES API out of 47,197 rows of `page_df`.\n",
    "\n",
    "Already filtered for `NaN` during querying ORES API."
   ]
  },
  {
   "cell_type": "code",
   "execution_count": 139,
   "metadata": {},
   "outputs": [
    {
     "name": "stdout",
     "output_type": "stream",
     "text": [
      "<class 'pandas.core.frame.DataFrame'>\n",
      "Int64Index: 44973 entries, 0 to 44972\n",
      "Data columns (total 11 columns):\n",
      "article_quality      44973 non-null object\n",
      "probability_B        44973 non-null float64\n",
      "probability_C        44973 non-null float64\n",
      "probability_FA       44973 non-null float64\n",
      "probability_GA       44973 non-null float64\n",
      "probability_Start    44973 non-null float64\n",
      "probability_Stub     44973 non-null float64\n",
      "revision_id          44973 non-null int64\n",
      "article_name         44973 non-null object\n",
      "country              44973 non-null object\n",
      "population           44973 non-null float64\n",
      "dtypes: float64(7), int64(1), object(3)\n",
      "memory usage: 4.1+ MB\n",
      "None\n"
     ]
    }
   ],
   "source": [
    "merge_df = main_df.merge(page_df, on='rev_id').merge(population_df, left_on='country', right_on='Geography').drop(['Geography'], axis=1)\n",
    "merge_df.rename(columns={\n",
    "    'rev_id': 'revision_id',\n",
    "    'page': 'article_name',\n",
    "    'prediction': 'article_quality',\n",
    "}, inplace=True)\n",
    "print(merge_df.info())"
   ]
  },
  {
   "cell_type": "code",
   "execution_count": 140,
   "metadata": {},
   "outputs": [
    {
     "data": {
      "text/html": [
       "<div>\n",
       "<style scoped>\n",
       "    .dataframe tbody tr th:only-of-type {\n",
       "        vertical-align: middle;\n",
       "    }\n",
       "\n",
       "    .dataframe tbody tr th {\n",
       "        vertical-align: top;\n",
       "    }\n",
       "\n",
       "    .dataframe thead th {\n",
       "        text-align: right;\n",
       "    }\n",
       "</style>\n",
       "<table border=\"1\" class=\"dataframe\">\n",
       "  <thead>\n",
       "    <tr style=\"text-align: right;\">\n",
       "      <th></th>\n",
       "      <th>article_quality</th>\n",
       "      <th>probability_B</th>\n",
       "      <th>probability_C</th>\n",
       "      <th>probability_FA</th>\n",
       "      <th>probability_GA</th>\n",
       "      <th>probability_Start</th>\n",
       "      <th>probability_Stub</th>\n",
       "      <th>revision_id</th>\n",
       "      <th>article_name</th>\n",
       "      <th>country</th>\n",
       "      <th>population</th>\n",
       "    </tr>\n",
       "  </thead>\n",
       "  <tbody>\n",
       "    <tr>\n",
       "      <th>44188</th>\n",
       "      <td>Start</td>\n",
       "      <td>0.042147</td>\n",
       "      <td>0.113943</td>\n",
       "      <td>0.002605</td>\n",
       "      <td>0.005500</td>\n",
       "      <td>0.773462</td>\n",
       "      <td>0.062343</td>\n",
       "      <td>755761395</td>\n",
       "      <td>Fazıl Önder</td>\n",
       "      <td>cyprus</td>\n",
       "      <td>1.2</td>\n",
       "    </tr>\n",
       "    <tr>\n",
       "      <th>29585</th>\n",
       "      <td>Stub</td>\n",
       "      <td>0.005747</td>\n",
       "      <td>0.010121</td>\n",
       "      <td>0.000810</td>\n",
       "      <td>0.002486</td>\n",
       "      <td>0.032476</td>\n",
       "      <td>0.948361</td>\n",
       "      <td>763711224</td>\n",
       "      <td>James Shanks</td>\n",
       "      <td>new zealand</td>\n",
       "      <td>4.9</td>\n",
       "    </tr>\n",
       "    <tr>\n",
       "      <th>9668</th>\n",
       "      <td>Stub</td>\n",
       "      <td>0.012138</td>\n",
       "      <td>0.018977</td>\n",
       "      <td>0.001393</td>\n",
       "      <td>0.002762</td>\n",
       "      <td>0.317063</td>\n",
       "      <td>0.647667</td>\n",
       "      <td>721515580</td>\n",
       "      <td>José Eugenio Tello</td>\n",
       "      <td>argentina</td>\n",
       "      <td>44.5</td>\n",
       "    </tr>\n",
       "  </tbody>\n",
       "</table>\n",
       "</div>"
      ],
      "text/plain": [
       "      article_quality  probability_B  probability_C  probability_FA  \\\n",
       "44188           Start       0.042147       0.113943        0.002605   \n",
       "29585            Stub       0.005747       0.010121        0.000810   \n",
       "9668             Stub       0.012138       0.018977        0.001393   \n",
       "\n",
       "       probability_GA  probability_Start  probability_Stub  revision_id  \\\n",
       "44188        0.005500           0.773462          0.062343    755761395   \n",
       "29585        0.002486           0.032476          0.948361    763711224   \n",
       "9668         0.002762           0.317063          0.647667    721515580   \n",
       "\n",
       "             article_name      country  population  \n",
       "44188         Fazıl Önder       cyprus         1.2  \n",
       "29585        James Shanks  new zealand         4.9  \n",
       "9668   José Eugenio Tello    argentina        44.5  "
      ]
     },
     "execution_count": 140,
     "metadata": {},
     "output_type": "execute_result"
    }
   ],
   "source": [
    "merge_df.sample(3)"
   ]
  },
  {
   "cell_type": "code",
   "execution_count": 141,
   "metadata": {},
   "outputs": [],
   "source": [
    "merge_df.to_csv('final_data.csv') # Save data to main repo"
   ]
  },
  {
   "cell_type": "markdown",
   "metadata": {},
   "source": [
    "4. Analysis\n",
    "---\n",
    "\n",
    "### Calculate the proportion of politician articles-per-population for each country"
   ]
  },
  {
   "cell_type": "code",
   "execution_count": 155,
   "metadata": {},
   "outputs": [],
   "source": [
    "\"\"\"\n",
    "Steps:\n",
    "    - Group by country and population and count number of articles\n",
    "    - Divide the num_article by population\n",
    "\"\"\"\n",
    "articles_per_pop_df = merge_df.groupby(['country', 'population'])['revision_id'].count().reset_index().rename(columns={'revision_id': 'num_article'})\n",
    "articles_per_pop_df['articles_per_population_perc'] = articles_per_pop_df['num_article'] / (articles_per_pop_df['population'] * 10**6) * 100.0"
   ]
  },
  {
   "cell_type": "markdown",
   "metadata": {},
   "source": [
    "### \"10 highest-ranked countries in terms of number of politician articles as a proportion of country population\""
   ]
  },
  {
   "cell_type": "code",
   "execution_count": 199,
   "metadata": {
    "scrolled": true
   },
   "outputs": [
    {
     "data": {
      "text/html": [
       "<table border=\"1\" class=\"dataframe\">\n",
       "  <thead>\n",
       "    <tr style=\"text-align: right;\">\n",
       "      <th>country</th>\n",
       "      <th>population</th>\n",
       "      <th>num_article</th>\n",
       "      <th>articles_per_population_perc</th>\n",
       "    </tr>\n",
       "  </thead>\n",
       "  <tbody>\n",
       "    <tr>\n",
       "      <td>tuvalu</td>\n",
       "      <td>0.01</td>\n",
       "      <td>55</td>\n",
       "      <td>0.550000</td>\n",
       "    </tr>\n",
       "    <tr>\n",
       "      <td>nauru</td>\n",
       "      <td>0.01</td>\n",
       "      <td>53</td>\n",
       "      <td>0.530000</td>\n",
       "    </tr>\n",
       "    <tr>\n",
       "      <td>san marino</td>\n",
       "      <td>0.03</td>\n",
       "      <td>82</td>\n",
       "      <td>0.273333</td>\n",
       "    </tr>\n",
       "    <tr>\n",
       "      <td>monaco</td>\n",
       "      <td>0.04</td>\n",
       "      <td>40</td>\n",
       "      <td>0.100000</td>\n",
       "    </tr>\n",
       "    <tr>\n",
       "      <td>liechtenstein</td>\n",
       "      <td>0.04</td>\n",
       "      <td>29</td>\n",
       "      <td>0.072500</td>\n",
       "    </tr>\n",
       "    <tr>\n",
       "      <td>tonga</td>\n",
       "      <td>0.10</td>\n",
       "      <td>63</td>\n",
       "      <td>0.063000</td>\n",
       "    </tr>\n",
       "    <tr>\n",
       "      <td>marshall islands</td>\n",
       "      <td>0.06</td>\n",
       "      <td>37</td>\n",
       "      <td>0.061667</td>\n",
       "    </tr>\n",
       "    <tr>\n",
       "      <td>iceland</td>\n",
       "      <td>0.40</td>\n",
       "      <td>206</td>\n",
       "      <td>0.051500</td>\n",
       "    </tr>\n",
       "    <tr>\n",
       "      <td>andorra</td>\n",
       "      <td>0.08</td>\n",
       "      <td>34</td>\n",
       "      <td>0.042500</td>\n",
       "    </tr>\n",
       "    <tr>\n",
       "      <td>federated states of micronesia</td>\n",
       "      <td>0.10</td>\n",
       "      <td>38</td>\n",
       "      <td>0.038000</td>\n",
       "    </tr>\n",
       "  </tbody>\n",
       "</table>"
      ],
      "text/plain": [
       "<IPython.core.display.HTML object>"
      ]
     },
     "execution_count": 199,
     "metadata": {},
     "output_type": "execute_result"
    }
   ],
   "source": [
    "HTML(articles_per_pop_df.sort_values(by='articles_per_population_perc', ascending=False).head(10).to_html(index=False))"
   ]
  },
  {
   "cell_type": "markdown",
   "metadata": {},
   "source": [
    "### \"10 lowest-ranked countries in terms of number of politician articles as a proportion of country population\""
   ]
  },
  {
   "cell_type": "code",
   "execution_count": 198,
   "metadata": {
    "scrolled": true
   },
   "outputs": [
    {
     "data": {
      "text/html": [
       "<table border=\"1\" class=\"dataframe\">\n",
       "  <thead>\n",
       "    <tr style=\"text-align: right;\">\n",
       "      <th>country</th>\n",
       "      <th>population</th>\n",
       "      <th>num_article</th>\n",
       "      <th>articles_per_population_perc</th>\n",
       "    </tr>\n",
       "  </thead>\n",
       "  <tbody>\n",
       "    <tr>\n",
       "      <td>india</td>\n",
       "      <td>1371.3</td>\n",
       "      <td>986</td>\n",
       "      <td>0.000072</td>\n",
       "    </tr>\n",
       "    <tr>\n",
       "      <td>indonesia</td>\n",
       "      <td>265.2</td>\n",
       "      <td>214</td>\n",
       "      <td>0.000081</td>\n",
       "    </tr>\n",
       "    <tr>\n",
       "      <td>china</td>\n",
       "      <td>1393.8</td>\n",
       "      <td>1135</td>\n",
       "      <td>0.000081</td>\n",
       "    </tr>\n",
       "    <tr>\n",
       "      <td>uzbekistan</td>\n",
       "      <td>32.9</td>\n",
       "      <td>29</td>\n",
       "      <td>0.000088</td>\n",
       "    </tr>\n",
       "    <tr>\n",
       "      <td>ethiopia</td>\n",
       "      <td>107.5</td>\n",
       "      <td>105</td>\n",
       "      <td>0.000098</td>\n",
       "    </tr>\n",
       "    <tr>\n",
       "      <td>zambia</td>\n",
       "      <td>17.7</td>\n",
       "      <td>25</td>\n",
       "      <td>0.000141</td>\n",
       "    </tr>\n",
       "    <tr>\n",
       "      <td>korea, north</td>\n",
       "      <td>25.6</td>\n",
       "      <td>39</td>\n",
       "      <td>0.000152</td>\n",
       "    </tr>\n",
       "    <tr>\n",
       "      <td>thailand</td>\n",
       "      <td>66.2</td>\n",
       "      <td>112</td>\n",
       "      <td>0.000169</td>\n",
       "    </tr>\n",
       "    <tr>\n",
       "      <td>bangladesh</td>\n",
       "      <td>166.4</td>\n",
       "      <td>323</td>\n",
       "      <td>0.000194</td>\n",
       "    </tr>\n",
       "    <tr>\n",
       "      <td>mozambique</td>\n",
       "      <td>30.5</td>\n",
       "      <td>60</td>\n",
       "      <td>0.000197</td>\n",
       "    </tr>\n",
       "  </tbody>\n",
       "</table>"
      ],
      "text/plain": [
       "<IPython.core.display.HTML object>"
      ]
     },
     "execution_count": 198,
     "metadata": {},
     "output_type": "execute_result"
    }
   ],
   "source": [
    "HTML(articles_per_pop_df.sort_values(by='articles_per_population_perc', ascending=True).head(10).to_html(index=False))"
   ]
  },
  {
   "cell_type": "markdown",
   "metadata": {},
   "source": [
    "### Calculate the proportion of high-quality articles for each country"
   ]
  },
  {
   "cell_type": "code",
   "execution_count": 177,
   "metadata": {},
   "outputs": [],
   "source": [
    "\"\"\"\n",
    "Steps:\n",
    "    - Create high_quality_df only filter for article rows with FA and HA ratings\n",
    "    - Group by country of quality_df to obtain num_high_quality_article\n",
    "    - Group by country of the master merge_df to obtain num_article\n",
    "    - Divide num_high_quality_article by num_article to get proportions\n",
    "\"\"\"\n",
    "high_quality_df = merge_df[(merge_df['article_quality'] == 'FA') | (merge_df['article_quality'] == 'GA')]"
   ]
  },
  {
   "cell_type": "code",
   "execution_count": 186,
   "metadata": {},
   "outputs": [],
   "source": [
    "summary_df = high_quality_df.groupby(['country'])['revision_id'].count().reset_index().rename(columns={'revision_id': 'num_high_quality_article'}).merge(merge_df.groupby(['country'])['revision_id'].count().reset_index().rename(columns={'revision_id': 'num_article'}), on='country')\n",
    "summary_df['high_quality_perc'] = summary_df['num_high_quality_article'] / summary_df['num_article'] * 100.0"
   ]
  },
  {
   "cell_type": "markdown",
   "metadata": {},
   "source": [
    "### \"10 highest-ranked countries in terms of number of GA and FA-quality articles as a proportion of all articles about politicians from that country\""
   ]
  },
  {
   "cell_type": "code",
   "execution_count": 197,
   "metadata": {},
   "outputs": [
    {
     "data": {
      "text/html": [
       "<table border=\"1\" class=\"dataframe\">\n",
       "  <thead>\n",
       "    <tr style=\"text-align: right;\">\n",
       "      <th>country</th>\n",
       "      <th>num_high_quality_article</th>\n",
       "      <th>num_article</th>\n",
       "      <th>high_quality_perc</th>\n",
       "    </tr>\n",
       "  </thead>\n",
       "  <tbody>\n",
       "    <tr>\n",
       "      <td>korea, north</td>\n",
       "      <td>7</td>\n",
       "      <td>39</td>\n",
       "      <td>17.948718</td>\n",
       "    </tr>\n",
       "    <tr>\n",
       "      <td>saudi arabia</td>\n",
       "      <td>16</td>\n",
       "      <td>119</td>\n",
       "      <td>13.445378</td>\n",
       "    </tr>\n",
       "    <tr>\n",
       "      <td>central african republic</td>\n",
       "      <td>8</td>\n",
       "      <td>68</td>\n",
       "      <td>11.764706</td>\n",
       "    </tr>\n",
       "    <tr>\n",
       "      <td>romania</td>\n",
       "      <td>40</td>\n",
       "      <td>348</td>\n",
       "      <td>11.494253</td>\n",
       "    </tr>\n",
       "    <tr>\n",
       "      <td>mauritania</td>\n",
       "      <td>5</td>\n",
       "      <td>52</td>\n",
       "      <td>9.615385</td>\n",
       "    </tr>\n",
       "    <tr>\n",
       "      <td>bhutan</td>\n",
       "      <td>3</td>\n",
       "      <td>33</td>\n",
       "      <td>9.090909</td>\n",
       "    </tr>\n",
       "    <tr>\n",
       "      <td>tuvalu</td>\n",
       "      <td>5</td>\n",
       "      <td>55</td>\n",
       "      <td>9.090909</td>\n",
       "    </tr>\n",
       "    <tr>\n",
       "      <td>dominica</td>\n",
       "      <td>1</td>\n",
       "      <td>12</td>\n",
       "      <td>8.333333</td>\n",
       "    </tr>\n",
       "    <tr>\n",
       "      <td>united states</td>\n",
       "      <td>82</td>\n",
       "      <td>1092</td>\n",
       "      <td>7.509158</td>\n",
       "    </tr>\n",
       "    <tr>\n",
       "      <td>benin</td>\n",
       "      <td>7</td>\n",
       "      <td>94</td>\n",
       "      <td>7.446809</td>\n",
       "    </tr>\n",
       "  </tbody>\n",
       "</table>"
      ],
      "text/plain": [
       "<IPython.core.display.HTML object>"
      ]
     },
     "execution_count": 197,
     "metadata": {},
     "output_type": "execute_result"
    }
   ],
   "source": [
    "HTML(summary_df.sort_values(by='high_quality_perc', ascending = False).head(10).to_html(index=False))"
   ]
  },
  {
   "cell_type": "markdown",
   "metadata": {},
   "source": [
    "### \"10 lowest-ranked countries in terms of number of GA and FA-quality articles as a proportion of all articles about politicians from that country\""
   ]
  },
  {
   "cell_type": "code",
   "execution_count": 196,
   "metadata": {},
   "outputs": [
    {
     "data": {
      "text/html": [
       "<table border=\"1\" class=\"dataframe\">\n",
       "  <thead>\n",
       "    <tr style=\"text-align: right;\">\n",
       "      <th>country</th>\n",
       "      <th>num_high_quality_article</th>\n",
       "      <th>num_article</th>\n",
       "      <th>high_quality_perc</th>\n",
       "    </tr>\n",
       "  </thead>\n",
       "  <tbody>\n",
       "    <tr>\n",
       "      <td>tanzania</td>\n",
       "      <td>1</td>\n",
       "      <td>408</td>\n",
       "      <td>0.245098</td>\n",
       "    </tr>\n",
       "    <tr>\n",
       "      <td>peru</td>\n",
       "      <td>1</td>\n",
       "      <td>354</td>\n",
       "      <td>0.282486</td>\n",
       "    </tr>\n",
       "    <tr>\n",
       "      <td>lithuania</td>\n",
       "      <td>1</td>\n",
       "      <td>248</td>\n",
       "      <td>0.403226</td>\n",
       "    </tr>\n",
       "    <tr>\n",
       "      <td>nigeria</td>\n",
       "      <td>3</td>\n",
       "      <td>682</td>\n",
       "      <td>0.439883</td>\n",
       "    </tr>\n",
       "    <tr>\n",
       "      <td>morocco</td>\n",
       "      <td>1</td>\n",
       "      <td>208</td>\n",
       "      <td>0.480769</td>\n",
       "    </tr>\n",
       "    <tr>\n",
       "      <td>fiji</td>\n",
       "      <td>1</td>\n",
       "      <td>199</td>\n",
       "      <td>0.502513</td>\n",
       "    </tr>\n",
       "    <tr>\n",
       "      <td>bolivia</td>\n",
       "      <td>1</td>\n",
       "      <td>187</td>\n",
       "      <td>0.534759</td>\n",
       "    </tr>\n",
       "    <tr>\n",
       "      <td>brazil</td>\n",
       "      <td>3</td>\n",
       "      <td>551</td>\n",
       "      <td>0.544465</td>\n",
       "    </tr>\n",
       "    <tr>\n",
       "      <td>luxembourg</td>\n",
       "      <td>1</td>\n",
       "      <td>180</td>\n",
       "      <td>0.555556</td>\n",
       "    </tr>\n",
       "    <tr>\n",
       "      <td>sierra leone</td>\n",
       "      <td>1</td>\n",
       "      <td>166</td>\n",
       "      <td>0.602410</td>\n",
       "    </tr>\n",
       "  </tbody>\n",
       "</table>"
      ],
      "text/plain": [
       "<IPython.core.display.HTML object>"
      ]
     },
     "execution_count": 196,
     "metadata": {},
     "output_type": "execute_result"
    }
   ],
   "source": [
    "HTML(summary_df.sort_values(by='high_quality_perc', ascending = True).head(10).to_html(index=False))"
   ]
  },
  {
   "cell_type": "markdown",
   "metadata": {},
   "source": [
    "### !!! CONTINUE TO `README.md` FOR DETAILED WRITE-UP !!!"
   ]
  }
 ],
 "metadata": {
  "kernelspec": {
   "display_name": "Python 3",
   "language": "python",
   "name": "python3"
  },
  "language_info": {
   "codemirror_mode": {
    "name": "ipython",
    "version": 3
   },
   "file_extension": ".py",
   "mimetype": "text/x-python",
   "name": "python",
   "nbconvert_exporter": "python",
   "pygments_lexer": "ipython3",
   "version": "3.6.4"
  }
 },
 "nbformat": 4,
 "nbformat_minor": 2
}
