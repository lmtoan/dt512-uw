{
 "cells": [
  {
   "cell_type": "markdown",
   "metadata": {},
   "source": [
    "# Assignment 1: Data Curation"
   ]
  },
  {
   "cell_type": "code",
   "execution_count": 1,
   "metadata": {},
   "outputs": [],
   "source": [
    "import json, requests\n",
    "\n",
    "import datetime as dt\n",
    "import numpy as np\n",
    "import pandas as pd\n",
    "import matplotlib.pyplot as plt"
   ]
  },
  {
   "cell_type": "markdown",
   "metadata": {},
   "source": [
    "1) Data Acquistion\n",
    "---\n",
    "\n",
    "Data acquisition procedure follows this [tutorial](http://paws-public.wmflabs.org/paws-public/User:Jtmorgan/data512_a1_example.ipynb). The steps include:\n",
    "* Determine endpoint URL to query data: there are legacy and pageview versions\n",
    "* Determine the parameters for each legacy API and pageview API. The pageview API includes more fields like `'agent'`\n",
    "* Query the legacy API from **December 2017 to July 2016**\n",
    "* Query the pageview API from **June 2015 to September 2018** (no October, 2018 yet)\n",
    "* Store to 5 .json source files split by pageview and pagecount and view channels"
   ]
  },
  {
   "cell_type": "code",
   "execution_count": 2,
   "metadata": {},
   "outputs": [],
   "source": [
    "# Similar to tutorial\n",
    "def api_call(endpoint, parameters, headers):\n",
    "    call = requests.get(endpoint.format(**parameters), headers=headers)\n",
    "    response = call.json()\n",
    "    return response\n",
    "\n",
    "endpoint_legacy = 'https://wikimedia.org/api/rest_v1/metrics/legacy/pagecounts/aggregate/{project}/{access-site}/{granularity}/{start}/{end}'\n",
    "\n",
    "endpoint_pv = 'https://wikimedia.org/api/rest_v1/metrics/pageviews/aggregate/{project}/{access}/{agent}/{granularity}/{start}/{end}'\n",
    "\n",
    "headers = {\n",
    "    'User-Agent': 'https://github.com/lmtoan',\n",
    "    'From': 'toanlm@uw.edu'\n",
    "}"
   ]
  },
  {
   "cell_type": "code",
   "execution_count": 3,
   "metadata": {},
   "outputs": [],
   "source": [
    "# Import pagecounts\n",
    "legacy_params = {\n",
    "    'project' : 'en.wikipedia.org', \n",
    "    'access-site' : 'desktop-site',\n",
    "    'granularity' : 'monthly',\n",
    "    'start' : '2007120100',\n",
    "    'end' : '2016080100'\n",
    "}\n",
    "\n",
    "# Query pagecount data and store to .json by format\n",
    "for access in ('desktop-site', 'mobile-site'):\n",
    "    legacy_params['access-site'] = access\n",
    "    pc_data = api_call(endpoint_legacy, legacy_params, headers)\n",
    "    with open('pagecounts_%s_%s-%s.json' %(access, legacy_params['start'][:-4], legacy_params['end'][:-4]), 'w') as f:\n",
    "        json.dump(pc_data, f)"
   ]
  },
  {
   "cell_type": "code",
   "execution_count": 4,
   "metadata": {},
   "outputs": [],
   "source": [
    "# Import pageviews\n",
    "pv_params = {\n",
    "    'project' : 'en.wikipedia.org',\n",
    "    'access' : 'desktop',\n",
    "    'agent' : 'user',\n",
    "    'granularity' : 'monthly',\n",
    "    'start' : '2015070100',\n",
    "    'end' : '2018100100'\n",
    "}\n",
    "\n",
    "# Query pageview data and store to .json by format\n",
    "for access in ('desktop', 'mobile-app', 'mobile-web'):\n",
    "    pv_params['access'] = access\n",
    "    pv_data = api_call(endpoint_pv, pv_params, headers)\n",
    "    with open('data/pageviews_%s_%s-%s.json' %(access, pv_params['start'][:-4], pv_params['end'][:-4]), 'w') as f:\n",
    "        json.dump(pv_data, f)"
   ]
  },
  {
   "cell_type": "markdown",
   "metadata": {},
   "source": [
    "2) Data Processing\n",
    "---\n",
    "\n",
    "Processing includes these steps:\n",
    "* Given all the 5 .json source files, read in and concatenate them as Pandas dataframe\n",
    "* Combine all mobile accesses both view/legacy API to `'mobile'` and refine desktop access to `'desktop'`\n",
    "* Extract `year` and `month` based on string slicing of `timestamp`\n",
    "* Groupby counts/pageviews for all mobile/desktop channels"
   ]
  },
  {
   "cell_type": "code",
   "execution_count": 5,
   "metadata": {},
   "outputs": [],
   "source": [
    "import glob\n",
    "\n",
    "# Extract all json paths using glob package\n",
    "paths = glob.glob('data/*.json')\n",
    "\n",
    "# Concatenate all dataframes to master_df\n",
    "df_collection = []\n",
    "for json_path in paths:\n",
    "    with open(json_path) as j:\n",
    "        data = json.load(j)\n",
    "    df = pd.DataFrame(data['items'])\n",
    "    df['json_path'] = json_path\n",
    "    df_collection.append(df)\n",
    "master_df = pd.concat(df_collection)\n",
    "master_df.reset_index(inplace=True, drop=True) # Reset index after concatenation"
   ]
  },
  {
   "cell_type": "code",
   "execution_count": 6,
   "metadata": {},
   "outputs": [
    {
     "data": {
      "text/html": [
       "<div>\n",
       "<style scoped>\n",
       "    .dataframe tbody tr th:only-of-type {\n",
       "        vertical-align: middle;\n",
       "    }\n",
       "\n",
       "    .dataframe tbody tr th {\n",
       "        vertical-align: top;\n",
       "    }\n",
       "\n",
       "    .dataframe thead th {\n",
       "        text-align: right;\n",
       "    }\n",
       "</style>\n",
       "<table border=\"1\" class=\"dataframe\">\n",
       "  <thead>\n",
       "    <tr style=\"text-align: right;\">\n",
       "      <th></th>\n",
       "      <th>access</th>\n",
       "      <th>access-site</th>\n",
       "      <th>agent</th>\n",
       "      <th>count</th>\n",
       "      <th>granularity</th>\n",
       "      <th>json_path</th>\n",
       "      <th>project</th>\n",
       "      <th>timestamp</th>\n",
       "      <th>views</th>\n",
       "    </tr>\n",
       "  </thead>\n",
       "  <tbody>\n",
       "    <tr>\n",
       "      <th>95</th>\n",
       "      <td>NaN</td>\n",
       "      <td>desktop-site</td>\n",
       "      <td>NaN</td>\n",
       "      <td>5.296956e+09</td>\n",
       "      <td>monthly</td>\n",
       "      <td>data/pagecounts_desktop-site_200712-201608.json</td>\n",
       "      <td>en.wikipedia</td>\n",
       "      <td>2015110100</td>\n",
       "      <td>NaN</td>\n",
       "    </tr>\n",
       "    <tr>\n",
       "      <th>108</th>\n",
       "      <td>desktop</td>\n",
       "      <td>NaN</td>\n",
       "      <td>user</td>\n",
       "      <td>NaN</td>\n",
       "      <td>monthly</td>\n",
       "      <td>data/pageviews_desktop_201507-201810.json</td>\n",
       "      <td>en.wikipedia</td>\n",
       "      <td>2015110100</td>\n",
       "      <td>4.287720e+09</td>\n",
       "    </tr>\n",
       "    <tr>\n",
       "      <th>147</th>\n",
       "      <td>mobile-app</td>\n",
       "      <td>NaN</td>\n",
       "      <td>user</td>\n",
       "      <td>NaN</td>\n",
       "      <td>monthly</td>\n",
       "      <td>data/pageviews_mobile-app_201507-201810.json</td>\n",
       "      <td>en.wikipedia</td>\n",
       "      <td>2015110100</td>\n",
       "      <td>9.435392e+07</td>\n",
       "    </tr>\n",
       "    <tr>\n",
       "      <th>195</th>\n",
       "      <td>NaN</td>\n",
       "      <td>mobile-site</td>\n",
       "      <td>NaN</td>\n",
       "      <td>3.218235e+09</td>\n",
       "      <td>monthly</td>\n",
       "      <td>data/pagecounts_mobile-site_200712-201608.json</td>\n",
       "      <td>en.wikipedia</td>\n",
       "      <td>2015110100</td>\n",
       "      <td>NaN</td>\n",
       "    </tr>\n",
       "    <tr>\n",
       "      <th>208</th>\n",
       "      <td>mobile-web</td>\n",
       "      <td>NaN</td>\n",
       "      <td>user</td>\n",
       "      <td>NaN</td>\n",
       "      <td>monthly</td>\n",
       "      <td>data/pageviews_mobile-web_201507-201810.json</td>\n",
       "      <td>en.wikipedia</td>\n",
       "      <td>2015110100</td>\n",
       "      <td>3.142247e+09</td>\n",
       "    </tr>\n",
       "  </tbody>\n",
       "</table>\n",
       "</div>"
      ],
      "text/plain": [
       "         access   access-site agent         count granularity  \\\n",
       "95          NaN  desktop-site   NaN  5.296956e+09     monthly   \n",
       "108     desktop           NaN  user           NaN     monthly   \n",
       "147  mobile-app           NaN  user           NaN     monthly   \n",
       "195         NaN   mobile-site   NaN  3.218235e+09     monthly   \n",
       "208  mobile-web           NaN  user           NaN     monthly   \n",
       "\n",
       "                                           json_path       project  \\\n",
       "95   data/pagecounts_desktop-site_200712-201608.json  en.wikipedia   \n",
       "108        data/pageviews_desktop_201507-201810.json  en.wikipedia   \n",
       "147     data/pageviews_mobile-app_201507-201810.json  en.wikipedia   \n",
       "195   data/pagecounts_mobile-site_200712-201608.json  en.wikipedia   \n",
       "208     data/pageviews_mobile-web_201507-201810.json  en.wikipedia   \n",
       "\n",
       "      timestamp         views  \n",
       "95   2015110100           NaN  \n",
       "108  2015110100  4.287720e+09  \n",
       "147  2015110100  9.435392e+07  \n",
       "195  2015110100           NaN  \n",
       "208  2015110100  3.142247e+09  "
      ]
     },
     "execution_count": 6,
     "metadata": {},
     "output_type": "execute_result"
    }
   ],
   "source": [
    "# Sanity check\n",
    "master_df[master_df.timestamp.str.contains('201511')]"
   ]
  },
  {
   "cell_type": "code",
   "execution_count": 7,
   "metadata": {},
   "outputs": [
    {
     "data": {
      "text/html": [
       "<div>\n",
       "<style scoped>\n",
       "    .dataframe tbody tr th:only-of-type {\n",
       "        vertical-align: middle;\n",
       "    }\n",
       "\n",
       "    .dataframe tbody tr th {\n",
       "        vertical-align: top;\n",
       "    }\n",
       "\n",
       "    .dataframe thead th {\n",
       "        text-align: right;\n",
       "    }\n",
       "</style>\n",
       "<table border=\"1\" class=\"dataframe\">\n",
       "  <thead>\n",
       "    <tr style=\"text-align: right;\">\n",
       "      <th></th>\n",
       "      <th>access</th>\n",
       "      <th>count</th>\n",
       "      <th>views</th>\n",
       "      <th>year</th>\n",
       "      <th>month</th>\n",
       "    </tr>\n",
       "  </thead>\n",
       "  <tbody>\n",
       "    <tr>\n",
       "      <th>95</th>\n",
       "      <td>desktop</td>\n",
       "      <td>5.296956e+09</td>\n",
       "      <td>0.000000e+00</td>\n",
       "      <td>2015</td>\n",
       "      <td>11</td>\n",
       "    </tr>\n",
       "    <tr>\n",
       "      <th>108</th>\n",
       "      <td>desktop</td>\n",
       "      <td>0.000000e+00</td>\n",
       "      <td>4.287720e+09</td>\n",
       "      <td>2015</td>\n",
       "      <td>11</td>\n",
       "    </tr>\n",
       "    <tr>\n",
       "      <th>147</th>\n",
       "      <td>mobile</td>\n",
       "      <td>0.000000e+00</td>\n",
       "      <td>9.435392e+07</td>\n",
       "      <td>2015</td>\n",
       "      <td>11</td>\n",
       "    </tr>\n",
       "    <tr>\n",
       "      <th>195</th>\n",
       "      <td>mobile</td>\n",
       "      <td>3.218235e+09</td>\n",
       "      <td>0.000000e+00</td>\n",
       "      <td>2015</td>\n",
       "      <td>11</td>\n",
       "    </tr>\n",
       "    <tr>\n",
       "      <th>208</th>\n",
       "      <td>mobile</td>\n",
       "      <td>0.000000e+00</td>\n",
       "      <td>3.142247e+09</td>\n",
       "      <td>2015</td>\n",
       "      <td>11</td>\n",
       "    </tr>\n",
       "  </tbody>\n",
       "</table>\n",
       "</div>"
      ],
      "text/plain": [
       "      access         count         views  year month\n",
       "95   desktop  5.296956e+09  0.000000e+00  2015    11\n",
       "108  desktop  0.000000e+00  4.287720e+09  2015    11\n",
       "147   mobile  0.000000e+00  9.435392e+07  2015    11\n",
       "195   mobile  3.218235e+09  0.000000e+00  2015    11\n",
       "208   mobile  0.000000e+00  3.142247e+09  2015    11"
      ]
     },
     "execution_count": 7,
     "metadata": {},
     "output_type": "execute_result"
    }
   ],
   "source": [
    "data_df = master_df.copy()\n",
    "\n",
    "# Combine all access\n",
    "data_df.loc[data_df['access'].isnull(), 'access'] = data_df['access-site']\n",
    "data_df.loc[data_df.access.str.contains('desktop'), 'access'] = 'desktop'\n",
    "data_df.loc[data_df.access.str.contains('mobile'), 'access'] = 'mobile'\n",
    "\n",
    "# Generate year and month\n",
    "data_df['year'] = data_df.loc[:, 'timestamp'].apply(lambda x: x[:4])\n",
    "data_df['month'] = data_df.loc[:, 'timestamp'].apply(lambda x: x[4:6])\n",
    "\n",
    "# Drop unnecessary columns\n",
    "data_df.drop(['agent', 'granularity', 'json_path', 'project', 'access-site', 'timestamp'], axis=1, inplace=True)\n",
    "\n",
    "# Fill NaN with zeros\n",
    "data_df.fillna(0, inplace=True)\n",
    "\n",
    "# Sanity check\n",
    "data_df[(data_df['year'] == '2015') & (data_df['month'] == '11')]"
   ]
  },
  {
   "cell_type": "markdown",
   "metadata": {},
   "source": [
    "Flatten the dataframe to create the `pagecount_desktop_views`, `pageview_desktop_views`, `pagecount_mobile_view`, `pageview_mobile_views` as required."
   ]
  },
  {
   "cell_type": "code",
   "execution_count": 8,
   "metadata": {},
   "outputs": [
    {
     "data": {
      "text/html": [
       "<div>\n",
       "<style scoped>\n",
       "    .dataframe tbody tr th:only-of-type {\n",
       "        vertical-align: middle;\n",
       "    }\n",
       "\n",
       "    .dataframe tbody tr th {\n",
       "        vertical-align: top;\n",
       "    }\n",
       "\n",
       "    .dataframe thead th {\n",
       "        text-align: right;\n",
       "    }\n",
       "</style>\n",
       "<table border=\"1\" class=\"dataframe\">\n",
       "  <thead>\n",
       "    <tr style=\"text-align: right;\">\n",
       "      <th></th>\n",
       "      <th>year</th>\n",
       "      <th>month</th>\n",
       "      <th>pagecount_desktop_views</th>\n",
       "      <th>pageview_desktop_views</th>\n",
       "      <th>pagecount_mobile_views</th>\n",
       "      <th>pageview_mobile_views</th>\n",
       "    </tr>\n",
       "  </thead>\n",
       "  <tbody>\n",
       "    <tr>\n",
       "      <th>103</th>\n",
       "      <td>2016</td>\n",
       "      <td>07</td>\n",
       "      <td>5.363966e+09</td>\n",
       "      <td>4.337866e+09</td>\n",
       "      <td>3.500661e+09</td>\n",
       "      <td>3.496574e+09</td>\n",
       "    </tr>\n",
       "  </tbody>\n",
       "</table>\n",
       "</div>"
      ],
      "text/plain": [
       "     year month  pagecount_desktop_views  pageview_desktop_views  \\\n",
       "103  2016    07             5.363966e+09            4.337866e+09   \n",
       "\n",
       "     pagecount_mobile_views  pageview_mobile_views  \n",
       "103            3.500661e+09           3.496574e+09  "
      ]
     },
     "execution_count": 8,
     "metadata": {},
     "output_type": "execute_result"
    }
   ],
   "source": [
    "# Create desktop/mobile_views columns\n",
    "flat_df = data_df.groupby(['access', 'year', 'month'])[['count', 'views']].sum().reset_index()\n",
    "\n",
    "def create_columns(row):\n",
    "    if row['access'] == 'desktop':\n",
    "        row.loc['pagecount_desktop_views'] = row['count']\n",
    "        row.loc['pageview_desktop_views'] = row['views']\n",
    "    else:\n",
    "        row.loc['pagecount_mobile_views'] = row['count']\n",
    "        row.loc['pageview_mobile_views'] = row['views']\n",
    "    return row\n",
    "    \n",
    "flat_df['pagecount_desktop_views'] = 0\n",
    "flat_df['pageview_desktop_views'] = 0\n",
    "flat_df['pagecount_mobile_views'] = 0\n",
    "flat_df['pageview_mobile_views'] = 0\n",
    "\n",
    "flat_df = flat_df.apply(lambda r: create_columns(r), axis=1)\n",
    "flat_df.drop(['count', 'views'], axis=1, inplace=True)\n",
    "flat_df = flat_df.groupby(['year', 'month']).sum().reset_index()\n",
    "\n",
    "# Sanity check\n",
    "flat_df[(flat_df['year'] == '2016') & (flat_df['month'] == '07')]"
   ]
  },
  {
   "cell_type": "markdown",
   "metadata": {},
   "source": [
    "Sum the `desktop` and `mobile` channels to create `all_views` columns"
   ]
  },
  {
   "cell_type": "code",
   "execution_count": 9,
   "metadata": {},
   "outputs": [
    {
     "data": {
      "text/html": [
       "<div>\n",
       "<style scoped>\n",
       "    .dataframe tbody tr th:only-of-type {\n",
       "        vertical-align: middle;\n",
       "    }\n",
       "\n",
       "    .dataframe tbody tr th {\n",
       "        vertical-align: top;\n",
       "    }\n",
       "\n",
       "    .dataframe thead th {\n",
       "        text-align: right;\n",
       "    }\n",
       "</style>\n",
       "<table border=\"1\" class=\"dataframe\">\n",
       "  <thead>\n",
       "    <tr style=\"text-align: right;\">\n",
       "      <th></th>\n",
       "      <th>year</th>\n",
       "      <th>month</th>\n",
       "      <th>pagecount_desktop_views</th>\n",
       "      <th>pageview_desktop_views</th>\n",
       "      <th>pagecount_mobile_views</th>\n",
       "      <th>pageview_mobile_views</th>\n",
       "      <th>pagecount_all_views</th>\n",
       "      <th>pageview_all_views</th>\n",
       "    </tr>\n",
       "  </thead>\n",
       "  <tbody>\n",
       "    <tr>\n",
       "      <th>103</th>\n",
       "      <td>2016</td>\n",
       "      <td>07</td>\n",
       "      <td>5.363966e+09</td>\n",
       "      <td>4.337866e+09</td>\n",
       "      <td>3.500661e+09</td>\n",
       "      <td>3.496574e+09</td>\n",
       "      <td>8.864628e+09</td>\n",
       "      <td>7.834440e+09</td>\n",
       "    </tr>\n",
       "  </tbody>\n",
       "</table>\n",
       "</div>"
      ],
      "text/plain": [
       "     year month  pagecount_desktop_views  pageview_desktop_views  \\\n",
       "103  2016    07             5.363966e+09            4.337866e+09   \n",
       "\n",
       "     pagecount_mobile_views  pageview_mobile_views  pagecount_all_views  \\\n",
       "103            3.500661e+09           3.496574e+09         8.864628e+09   \n",
       "\n",
       "     pageview_all_views  \n",
       "103        7.834440e+09  "
      ]
     },
     "execution_count": 9,
     "metadata": {},
     "output_type": "execute_result"
    }
   ],
   "source": [
    "# Sum views/counts to create all_views columns\n",
    "flat_df['pagecount_all_views'] = flat_df['pagecount_desktop_views'] + flat_df['pagecount_mobile_views']\n",
    "flat_df['pageview_all_views'] = flat_df['pageview_desktop_views'] + flat_df['pageview_mobile_views']\n",
    "\n",
    "# Sanity check\n",
    "flat_df[(flat_df['year'] == '2016') & (flat_df['month'] == '07')]\n",
    "\n",
    "# Sanity Check: 2016/7\n",
    "# 8.864628e+09\t5.363966e+09\t3.500661e+09\t7.834440e+09\t4.337866e+09\t3.496574e+09"
   ]
  },
  {
   "cell_type": "markdown",
   "metadata": {},
   "source": [
    "Save to .csv as required."
   ]
  },
  {
   "cell_type": "code",
   "execution_count": 10,
   "metadata": {},
   "outputs": [],
   "source": [
    "# Save to .csv\n",
    "flat_df.to_csv('en-wikipedia_traffic_200712-201809.csv')"
   ]
  },
  {
   "cell_type": "markdown",
   "metadata": {},
   "source": [
    "3) Analysis\n",
    "---\n",
    "\n",
    "To generate the plot below, the steps are:\n",
    "* Add a pseudo-date and generate a `date` column with format `YYYY-MM-DD`\n",
    "* Change 0 back to NaN so as not to plot those points\n",
    "* Divide all the pagecount and pageview by $10^6$ to label as millions\n",
    "* Plot, label, and save figure as necessary"
   ]
  },
  {
   "cell_type": "code",
   "execution_count": 16,
   "metadata": {},
   "outputs": [
    {
     "data": {
      "image/png": "[encoded data removed]",
      "text/plain": [
       "<matplotlib.figure.Figure at 0x7fc542526c50>"
      ]
     },
     "metadata": {},
     "output_type": "display_data"
    }
   ],
   "source": [
    "# Create column 'date' and add pseudo date of 01 in the format 'YYYY-MM-DD'\n",
    "flat_df['date'] = flat_df['year'] + '-' + flat_df['month'] + '-01'\n",
    "flat_df['date'] = pd.to_datetime(flat_df['date'], format ='%Y-%m-%d')\n",
    "flat_df.replace(0, float('nan'), inplace=True)\n",
    "\n",
    "# Plot all available columns\n",
    "fig, ax = plt.subplots(1, figsize=(15, 8))\n",
    "ax.plot(flat_df['date'], flat_df['pagecount_all_views']/1e6, '--')\n",
    "ax.plot(flat_df['date'], flat_df['pagecount_desktop_views']/1e6, '--')\n",
    "ax.plot(flat_df['date'], flat_df['pagecount_mobile_views']/1e6, '--')\n",
    "ax.plot(flat_df['date'], flat_df['pageview_all_views']/1e6)\n",
    "ax.plot(flat_df['date'], flat_df['pageview_desktop_views']/1e6)\n",
    "ax.plot(flat_df['date'], flat_df['pageview_mobile_views']/1e6)\n",
    "\n",
    "# Set legends, labels\n",
    "ax.legend(loc='upper left')\n",
    "ax.set_xlabel('Date')  \n",
    "ax.set_ylabel('Page Views (Millions)')  \n",
    "ax.set_title('Page Views of English Language Wikipedia Pages Over Time')\n",
    "\n",
    "# Save figure to .png\n",
    "fig.savefig('ts_plot.png')"
   ]
  },
  {
   "cell_type": "markdown",
   "metadata": {},
   "source": [
    "README editor"
   ]
  },
  {
   "cell_type": "code",
   "execution_count": 17,
   "metadata": {},
   "outputs": [
    {
     "name": "stdout",
     "output_type": "stream",
     "text": [
      "Overwriting README.md\n"
     ]
    }
   ],
   "source": [
    "%%file README.md\n",
    "# Assignment 1: Data Curation\n",
    "\n",
    "* Project Goal\n",
    "\n",
    "![](figs/ts_plot.png)\n",
    "\n",
    "* List the license of the source data and a link to the Wikimedia Foundation REST API terms of use: https://www.mediawiki.org/wiki/REST_API#Terms_and_conditions\n",
    "* Link to all relevant API documentation\n",
    "* Describe the values of all fields in your final data file.\n",
    "\n",
    "| Column                  | Value     | Description                                                                                                               |\n",
    "|-------------------------|-----------|---------------------------------------------------------------------------------------------------------------------------|\n",
    "| year                    | YYYY      | Year of access                                                                                                            |\n",
    "| month                   | MM        | Month of access                                                                                                           |\n",
    "| pagecount_all_views     | num_views | Aggregate of pagecount of all channels, given month-year between Jan 2008 to July 2016                                    |\n",
    "| pagecount_desktop_views | num_views | Aggregate of pagecount of desktop channel, given month-year between Jan 2008 to July 2016                                 |\n",
    "| pagecount_mobile_views  | num_views | Aggregate of pagecount of mobile channel, given month-year between Jan 2008 to July 2016                                  |\n",
    "| pageview_all_views      | num_views | Aggregate of pageview of all channels, given month-year between July 2015 to October 2018                                 |\n",
    "| pageview_desktop_views  | num_views | Aggregate of pageview of desktop channel, given month-year between July 2015 to October 2018                              |\n",
    "| pageview_mobile_views   | num_views | Aggregate of pageview of mobile channels (mobile app and mobile site), given month-year between July 2015 to October 2018 |\n",
    "\n",
    "* List any known issues or special considerations with the data that would be useful for another researcher to know. For example, you should describe that data from the Pageview API excludes spiders/crawlers, while data from the Pagecounts API does not."
   ]
  },
  {
   "cell_type": "code",
   "execution_count": null,
   "metadata": {},
   "outputs": [],
   "source": []
  }
 ],
 "metadata": {
  "kernelspec": {
   "display_name": "Python 3",
   "language": "python",
   "name": "python3"
  },
  "language_info": {
   "codemirror_mode": {
    "name": "ipython",
    "version": 3
   },
   "file_extension": ".py",
   "mimetype": "text/x-python",
   "name": "python",
   "nbconvert_exporter": "python",
   "pygments_lexer": "ipython3",
   "version": "3.6.4"
  }
 },
 "nbformat": 4,
 "nbformat_minor": 2
}
