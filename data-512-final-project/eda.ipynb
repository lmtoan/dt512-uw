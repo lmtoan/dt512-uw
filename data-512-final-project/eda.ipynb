{
 "cells": [
  {
   "cell_type": "code",
   "execution_count": 2,
   "metadata": {},
   "outputs": [],
   "source": [
    "import pandas as pd\n",
    "import numpy as np"
   ]
  },
  {
   "cell_type": "code",
   "execution_count": 110,
   "metadata": {},
   "outputs": [],
   "source": [
    "historic_orig = pd.read_csv('data/NYPD_Shooting_Incident_Data__Historic_.csv')\n",
    "ytd_orig = pd.read_csv('data/NYPD_Shooting_Incident_Data__Year_To_Date_.csv')"
   ]
  },
  {
   "cell_type": "code",
   "execution_count": 111,
   "metadata": {},
   "outputs": [
    {
     "data": {
      "text/plain": [
       "Index(['INCIDENT_KEY', 'OCCUR_DATE', 'OCCUR_TIME', 'BORO', 'PRECINCT',\n",
       "       'JURISDICTION_CODE', 'LOCATION_DESC', 'STATISTICAL_MURDER_FLAG',\n",
       "       'PERP_AGE_GROUP', 'PERP_SEX', 'PERP_RACE', 'VIC_AGE_GROUP', 'VIC_SEX',\n",
       "       'VIC_RACE', 'X_COORD_CD', 'Y_COORD_CD', 'Latitude', 'Longitude'],\n",
       "      dtype='object')"
      ]
     },
     "execution_count": 111,
     "metadata": {},
     "output_type": "execute_result"
    }
   ],
   "source": [
    "historic_orig.columns"
   ]
  },
  {
   "cell_type": "code",
   "execution_count": 112,
   "metadata": {},
   "outputs": [],
   "source": [
    "def clean(df):\n",
    "    df['DATESTAMP'] = pd.to_datetime(df.OCCUR_DATE + ' ' + df.OCCUR_TIME, errors='coerce')\n",
    "    df['LOCATION_CODE'] = str(df['BORO']) + ' ' + str(df['PRECINCT']) + ' ' + str(df['JURISDICTION_CODE'])\n",
    "    return df.drop(['OCCUR_DATE', 'OCCUR_TIME', 'X_COORD_CD', 'Y_COORD_CD', 'BORO', 'PRECINCT', 'JURISDICTION_CODE'], axis=1)\n",
    "\n",
    "historic_clean = clean(historic_orig)\n",
    "ytd_clean = clean(ytd_orig)"
   ]
  },
  {
   "cell_type": "code",
   "execution_count": 113,
   "metadata": {},
   "outputs": [],
   "source": [
    "main = pd.concat([historic_clean, ytd_clean])"
   ]
  },
  {
   "cell_type": "code",
   "execution_count": 122,
   "metadata": {},
   "outputs": [
    {
     "data": {
      "text/html": [
       "<div>\n",
       "<style scoped>\n",
       "    .dataframe tbody tr th:only-of-type {\n",
       "        vertical-align: middle;\n",
       "    }\n",
       "\n",
       "    .dataframe tbody tr th {\n",
       "        vertical-align: top;\n",
       "    }\n",
       "\n",
       "    .dataframe thead th {\n",
       "        text-align: right;\n",
       "    }\n",
       "</style>\n",
       "<table border=\"1\" class=\"dataframe\">\n",
       "  <thead>\n",
       "    <tr style=\"text-align: right;\">\n",
       "      <th></th>\n",
       "      <th>LOCATION_DESC</th>\n",
       "      <th>PERP_AGE_GROUP</th>\n",
       "      <th>PERP_SEX</th>\n",
       "      <th>PERP_RACE</th>\n",
       "      <th>VIC_AGE_GROUP</th>\n",
       "      <th>VIC_SEX</th>\n",
       "      <th>VIC_RACE</th>\n",
       "      <th>LOCATION_CODE</th>\n",
       "    </tr>\n",
       "  </thead>\n",
       "  <tbody>\n",
       "    <tr>\n",
       "      <th>count</th>\n",
       "      <td>2344</td>\n",
       "      <td>3635</td>\n",
       "      <td>3635</td>\n",
       "      <td>3635</td>\n",
       "      <td>6848</td>\n",
       "      <td>6848</td>\n",
       "      <td>6848</td>\n",
       "      <td>6848</td>\n",
       "    </tr>\n",
       "    <tr>\n",
       "      <th>unique</th>\n",
       "      <td>27</td>\n",
       "      <td>8</td>\n",
       "      <td>3</td>\n",
       "      <td>7</td>\n",
       "      <td>6</td>\n",
       "      <td>3</td>\n",
       "      <td>7</td>\n",
       "      <td>2</td>\n",
       "    </tr>\n",
       "    <tr>\n",
       "      <th>top</th>\n",
       "      <td>MULTI DWELL - PUBLIC HOUS</td>\n",
       "      <td>18-24</td>\n",
       "      <td>M</td>\n",
       "      <td>BLACK</td>\n",
       "      <td>25-44</td>\n",
       "      <td>M</td>\n",
       "      <td>BLACK</td>\n",
       "      <td>0            BROOKLYN\\n1            BROOKLYN\\n...</td>\n",
       "    </tr>\n",
       "    <tr>\n",
       "      <th>freq</th>\n",
       "      <td>1208</td>\n",
       "      <td>1582</td>\n",
       "      <td>3514</td>\n",
       "      <td>2596</td>\n",
       "      <td>3064</td>\n",
       "      <td>6224</td>\n",
       "      <td>4924</td>\n",
       "      <td>6407</td>\n",
       "    </tr>\n",
       "  </tbody>\n",
       "</table>\n",
       "</div>"
      ],
      "text/plain": [
       "                         LOCATION_DESC PERP_AGE_GROUP PERP_SEX PERP_RACE  \\\n",
       "count                             2344           3635     3635      3635   \n",
       "unique                              27              8        3         7   \n",
       "top     MULTI DWELL - PUBLIC HOUS               18-24        M     BLACK   \n",
       "freq                              1208           1582     3514      2596   \n",
       "\n",
       "       VIC_AGE_GROUP VIC_SEX VIC_RACE  \\\n",
       "count           6848    6848     6848   \n",
       "unique             6       3        7   \n",
       "top            25-44       M    BLACK   \n",
       "freq            3064    6224     4924   \n",
       "\n",
       "                                            LOCATION_CODE  \n",
       "count                                                6848  \n",
       "unique                                                  2  \n",
       "top     0            BROOKLYN\\n1            BROOKLYN\\n...  \n",
       "freq                                                 6407  "
      ]
     },
     "execution_count": 122,
     "metadata": {},
     "output_type": "execute_result"
    }
   ],
   "source": [
    "main.describe(include=[np.object])"
   ]
  },
  {
   "cell_type": "code",
   "execution_count": 123,
   "metadata": {},
   "outputs": [
    {
     "data": {
      "text/html": [
       "<div>\n",
       "<style scoped>\n",
       "    .dataframe tbody tr th:only-of-type {\n",
       "        vertical-align: middle;\n",
       "    }\n",
       "\n",
       "    .dataframe tbody tr th {\n",
       "        vertical-align: top;\n",
       "    }\n",
       "\n",
       "    .dataframe thead th {\n",
       "        text-align: right;\n",
       "    }\n",
       "</style>\n",
       "<table border=\"1\" class=\"dataframe\">\n",
       "  <thead>\n",
       "    <tr style=\"text-align: right;\">\n",
       "      <th></th>\n",
       "      <th>INCIDENT_KEY</th>\n",
       "      <th>LOCATION_DESC</th>\n",
       "      <th>STATISTICAL_MURDER_FLAG</th>\n",
       "      <th>PERP_AGE_GROUP</th>\n",
       "      <th>PERP_SEX</th>\n",
       "      <th>PERP_RACE</th>\n",
       "      <th>VIC_AGE_GROUP</th>\n",
       "      <th>VIC_SEX</th>\n",
       "      <th>VIC_RACE</th>\n",
       "      <th>Latitude</th>\n",
       "      <th>Longitude</th>\n",
       "      <th>DATESTAMP</th>\n",
       "      <th>LOCATION_CODE</th>\n",
       "    </tr>\n",
       "  </thead>\n",
       "  <tbody>\n",
       "    <tr>\n",
       "      <th>4781</th>\n",
       "      <td>109469979</td>\n",
       "      <td>NaN</td>\n",
       "      <td>False</td>\n",
       "      <td>&lt;18</td>\n",
       "      <td>M</td>\n",
       "      <td>BLACK</td>\n",
       "      <td>&lt;18</td>\n",
       "      <td>M</td>\n",
       "      <td>BLACK</td>\n",
       "      <td>40.662487</td>\n",
       "      <td>-73.904012</td>\n",
       "      <td>2014-04-07 18:19:00</td>\n",
       "      <td>0            BROOKLYN\\n1            BROOKLYN\\n...</td>\n",
       "    </tr>\n",
       "  </tbody>\n",
       "</table>\n",
       "</div>"
      ],
      "text/plain": [
       "      INCIDENT_KEY LOCATION_DESC  STATISTICAL_MURDER_FLAG PERP_AGE_GROUP  \\\n",
       "4781     109469979           NaN                    False            <18   \n",
       "\n",
       "     PERP_SEX PERP_RACE VIC_AGE_GROUP VIC_SEX VIC_RACE   Latitude  Longitude  \\\n",
       "4781        M     BLACK           <18       M    BLACK  40.662487 -73.904012   \n",
       "\n",
       "               DATESTAMP                                      LOCATION_CODE  \n",
       "4781 2014-04-07 18:19:00  0            BROOKLYN\\n1            BROOKLYN\\n...  "
      ]
     },
     "execution_count": 123,
     "metadata": {},
     "output_type": "execute_result"
    }
   ],
   "source": [
    "main.sample(1)"
   ]
  },
  {
   "cell_type": "code",
   "execution_count": 25,
   "metadata": {},
   "outputs": [],
   "source": [
    "import folium\n",
    "from IPython.display import HTML"
   ]
  },
  {
   "cell_type": "code",
   "execution_count": 28,
   "metadata": {},
   "outputs": [],
   "source": [
    "# https://app.dominodatalab.com/u/r00sj3/crimemaps/view/examples.ipynb\n",
    "def display(m, height=300):\n",
    "    \"\"\"Takes a folium instance and embed HTML.\"\"\"\n",
    "    srcdoc = m.HTML.replace('\"', '&quot;')\n",
    "    embed = HTML('<iframe srcdoc=\"{0}\" '\n",
    "                 'style=\"width: 100%; height: {1}px; '\n",
    "                 'border: none\"></iframe>'.format(srcdoc, height))\n",
    "    return embed"
   ]
  },
  {
   "cell_type": "code",
   "execution_count": 31,
   "metadata": {
    "scrolled": true
   },
   "outputs": [
    {
     "name": "stdout",
     "output_type": "stream",
     "text": [
      "Index(['INCIDENT_KEY', 'OCCUR_DATE', 'OCCUR_TIME', 'BORO', 'PRECINCT',\n",
      "       'JURISDICTION_CODE', 'LOCATION_DESC', 'STATISTICAL_MURDER_FLAG',\n",
      "       'PERP_AGE_GROUP', 'PERP_SEX', 'PERP_RACE', 'VIC_AGE_GROUP', 'VIC_SEX',\n",
      "       'VIC_RACE', 'X_COORD_CD', 'Y_COORD_CD', 'Latitude', 'Longitude'],\n",
      "      dtype='object')\n"
     ]
    }
   ],
   "source": [
    "print(ytd_orig.columns)"
   ]
  },
  {
   "cell_type": "code",
   "execution_count": null,
   "metadata": {},
   "outputs": [],
   "source": [
    "# EDA: how many types/value_counts of BORO, PRECINT, LOCATION\n",
    "\n",
    "# Missing Data Analysis\n",
    "\n",
    "# Time trends plots\n",
    "# Groupby month/year, count #shootings\n",
    "# Groupby month/year, count #race (perp/victim)\n",
    "# Groupby month/year, count #age_group (perp/victim)\n",
    "# Groupby month/year, count #sex (perp/victim)\n",
    "# Groupby month/year, count #age_group (perp/victim)\n",
    "\n",
    "# Visualization flag for police shootings, flag for Statistical Murder Flag\n",
    "# Murder/non-murder, male, female"
   ]
  },
  {
   "cell_type": "code",
   "execution_count": 54,
   "metadata": {},
   "outputs": [
    {
     "data": {
      "text/html": [
       "<div>\n",
       "<style scoped>\n",
       "    .dataframe tbody tr th:only-of-type {\n",
       "        vertical-align: middle;\n",
       "    }\n",
       "\n",
       "    .dataframe tbody tr th {\n",
       "        vertical-align: top;\n",
       "    }\n",
       "\n",
       "    .dataframe thead th {\n",
       "        text-align: right;\n",
       "    }\n",
       "</style>\n",
       "<table border=\"1\" class=\"dataframe\">\n",
       "  <thead>\n",
       "    <tr style=\"text-align: right;\">\n",
       "      <th></th>\n",
       "      <th>INCIDENT_KEY</th>\n",
       "      <th>OCCUR_DATE</th>\n",
       "      <th>OCCUR_TIME</th>\n",
       "      <th>BORO</th>\n",
       "      <th>PRECINCT</th>\n",
       "      <th>JURISDICTION_CODE</th>\n",
       "      <th>LOCATION_DESC</th>\n",
       "      <th>STATISTICAL_MURDER_FLAG</th>\n",
       "      <th>PERP_AGE_GROUP</th>\n",
       "      <th>PERP_SEX</th>\n",
       "      <th>PERP_RACE</th>\n",
       "      <th>VIC_AGE_GROUP</th>\n",
       "      <th>VIC_SEX</th>\n",
       "      <th>VIC_RACE</th>\n",
       "      <th>X_COORD_CD</th>\n",
       "      <th>Y_COORD_CD</th>\n",
       "      <th>Latitude</th>\n",
       "      <th>Longitude</th>\n",
       "      <th>datestamp</th>\n",
       "    </tr>\n",
       "  </thead>\n",
       "  <tbody>\n",
       "    <tr>\n",
       "      <th>1114</th>\n",
       "      <td>158273233</td>\n",
       "      <td>11/04/2016 12:00:00 AM</td>\n",
       "      <td>14:45:00</td>\n",
       "      <td>BRONX</td>\n",
       "      <td>43</td>\n",
       "      <td>0</td>\n",
       "      <td>NaN</td>\n",
       "      <td>True</td>\n",
       "      <td>25-44</td>\n",
       "      <td>M</td>\n",
       "      <td>WHITE HISPANIC</td>\n",
       "      <td>UNKNOWN</td>\n",
       "      <td>M</td>\n",
       "      <td>UNKNOWN</td>\n",
       "      <td>1020999</td>\n",
       "      <td>244291</td>\n",
       "      <td>40.837129</td>\n",
       "      <td>-73.867195</td>\n",
       "      <td>2016-11-04 14:45:00</td>\n",
       "    </tr>\n",
       "  </tbody>\n",
       "</table>\n",
       "</div>"
      ],
      "text/plain": [
       "      INCIDENT_KEY              OCCUR_DATE OCCUR_TIME   BORO  PRECINCT  \\\n",
       "1114     158273233  11/04/2016 12:00:00 AM   14:45:00  BRONX        43   \n",
       "\n",
       "      JURISDICTION_CODE LOCATION_DESC  STATISTICAL_MURDER_FLAG PERP_AGE_GROUP  \\\n",
       "1114                  0           NaN                     True          25-44   \n",
       "\n",
       "     PERP_SEX       PERP_RACE VIC_AGE_GROUP VIC_SEX VIC_RACE  X_COORD_CD  \\\n",
       "1114        M  WHITE HISPANIC       UNKNOWN       M  UNKNOWN     1020999   \n",
       "\n",
       "      Y_COORD_CD   Latitude  Longitude           datestamp  \n",
       "1114      244291  40.837129 -73.867195 2016-11-04 14:45:00  "
      ]
     },
     "execution_count": 54,
     "metadata": {},
     "output_type": "execute_result"
    }
   ],
   "source": [
    "historic_orig.sample(1)"
   ]
  },
  {
   "cell_type": "code",
   "execution_count": 74,
   "metadata": {},
   "outputs": [
    {
     "data": {
      "text/html": [
       "<div>\n",
       "<style scoped>\n",
       "    .dataframe tbody tr th:only-of-type {\n",
       "        vertical-align: middle;\n",
       "    }\n",
       "\n",
       "    .dataframe tbody tr th {\n",
       "        vertical-align: top;\n",
       "    }\n",
       "\n",
       "    .dataframe thead th {\n",
       "        text-align: right;\n",
       "    }\n",
       "</style>\n",
       "<table border=\"1\" class=\"dataframe\">\n",
       "  <thead>\n",
       "    <tr style=\"text-align: right;\">\n",
       "      <th></th>\n",
       "      <th>INCIDENT_KEY</th>\n",
       "      <th>OCCUR_DATE</th>\n",
       "      <th>OCCUR_TIME</th>\n",
       "      <th>BORO</th>\n",
       "      <th>PRECINCT</th>\n",
       "      <th>JURISDICTION_CODE</th>\n",
       "      <th>LOCATION_DESC</th>\n",
       "      <th>STATISTICAL_MURDER_FLAG</th>\n",
       "      <th>PERP_AGE_GROUP</th>\n",
       "      <th>PERP_SEX</th>\n",
       "      <th>PERP_RACE</th>\n",
       "      <th>VIC_AGE_GROUP</th>\n",
       "      <th>VIC_SEX</th>\n",
       "      <th>VIC_RACE</th>\n",
       "      <th>X_COORD_CD</th>\n",
       "      <th>Y_COORD_CD</th>\n",
       "      <th>Latitude</th>\n",
       "      <th>Longitude</th>\n",
       "    </tr>\n",
       "  </thead>\n",
       "  <tbody>\n",
       "    <tr>\n",
       "      <th>77</th>\n",
       "      <td>183609561</td>\n",
       "      <td>06/07/2018 12:00:00 AM</td>\n",
       "      <td>17:14:00</td>\n",
       "      <td>BRONX</td>\n",
       "      <td>44</td>\n",
       "      <td>0</td>\n",
       "      <td>NaN</td>\n",
       "      <td>False</td>\n",
       "      <td>NaN</td>\n",
       "      <td>NaN</td>\n",
       "      <td>NaN</td>\n",
       "      <td>18-24</td>\n",
       "      <td>M</td>\n",
       "      <td>WHITE HISPANIC</td>\n",
       "      <td>1004689</td>\n",
       "      <td>243518</td>\n",
       "      <td>40.835061</td>\n",
       "      <td>-73.92614</td>\n",
       "    </tr>\n",
       "  </tbody>\n",
       "</table>\n",
       "</div>"
      ],
      "text/plain": [
       "    INCIDENT_KEY              OCCUR_DATE OCCUR_TIME   BORO  PRECINCT  \\\n",
       "77     183609561  06/07/2018 12:00:00 AM   17:14:00  BRONX        44   \n",
       "\n",
       "    JURISDICTION_CODE LOCATION_DESC  STATISTICAL_MURDER_FLAG PERP_AGE_GROUP  \\\n",
       "77                  0           NaN                    False            NaN   \n",
       "\n",
       "   PERP_SEX PERP_RACE VIC_AGE_GROUP VIC_SEX        VIC_RACE  X_COORD_CD  \\\n",
       "77      NaN       NaN         18-24       M  WHITE HISPANIC     1004689   \n",
       "\n",
       "    Y_COORD_CD   Latitude  Longitude  \n",
       "77      243518  40.835061  -73.92614  "
      ]
     },
     "execution_count": 74,
     "metadata": {},
     "output_type": "execute_result"
    }
   ],
   "source": [
    "ytd_orig.sample(1)"
   ]
  },
  {
   "cell_type": "code",
   "execution_count": 94,
   "metadata": {},
   "outputs": [],
   "source": [
    "import datetime as dt"
   ]
  },
  {
   "cell_type": "code",
   "execution_count": 99,
   "metadata": {},
   "outputs": [],
   "source": [
    "def create_folium_map(df):\n",
    "    NYC_COORDINATES = (40.730610, -73.935242)\n",
    "    MORNING_URL = 'http://icons.iconarchive.com/icons/icons-land/weather/256/Sunrise-icon.png'\n",
    "    NIGHT_URL = 'http://cdn.onlinewebfonts.com/svg/download_169174.png'\n",
    "    morning_icon = folium.features.CustomIcon(MORNING_URL, icon_size=(28, 30))\n",
    "    night_icon = folium.features.CustomIcon(NIGHT_URL, icon_size=(28, 30))\n",
    "    m = folium.Map(location=NYC_COORDINATES, zoom_start=10)\n",
    "    for i, row in df.sample(MAX_RECORDS).iterrows():\n",
    "        icon_color = 'blue'\n",
    "        custom_icon = morning_icon\n",
    "        if row.STATISTICAL_MURDER_FLAG: icon_color = 'red'\n",
    "        print(type(row.datestamp))\n",
    "        if row.datestamp > dt.time('12:00'): custom_icon = night_icon\n",
    "        folium.Marker(location=[row.Latitude, row.Longitude], popup=str(row.datestamp), \n",
    "                      icon=icon).add_to(m)\n",
    "    return m"
   ]
  },
  {
   "cell_type": "code",
   "execution_count": 100,
   "metadata": {
    "scrolled": true
   },
   "outputs": [
    {
     "name": "stdout",
     "output_type": "stream",
     "text": [
      "<class 'pandas._libs.tslib.Timestamp'>\n"
     ]
    },
    {
     "ename": "TypeError",
     "evalue": "an integer is required (got type str)",
     "output_type": "error",
     "traceback": [
      "\u001b[0;31m---------------------------------------------------------------------------\u001b[0m",
      "\u001b[0;31mTypeError\u001b[0m                                 Traceback (most recent call last)",
      "\u001b[0;32m<ipython-input-100-eb3ac5290c3e>\u001b[0m in \u001b[0;36m<module>\u001b[0;34m()\u001b[0m\n\u001b[0;32m----> 1\u001b[0;31m \u001b[0mcreate_folium_map\u001b[0m\u001b[0;34m(\u001b[0m\u001b[0mclean\u001b[0m\u001b[0;34m(\u001b[0m\u001b[0mytd_orig\u001b[0m\u001b[0;34m)\u001b[0m\u001b[0;34m)\u001b[0m\u001b[0;34m\u001b[0m\u001b[0m\n\u001b[0m",
      "\u001b[0;32m<ipython-input-99-29edf8c79a60>\u001b[0m in \u001b[0;36mcreate_folium_map\u001b[0;34m(df)\u001b[0m\n\u001b[1;32m     11\u001b[0m         \u001b[0;32mif\u001b[0m \u001b[0mrow\u001b[0m\u001b[0;34m.\u001b[0m\u001b[0mSTATISTICAL_MURDER_FLAG\u001b[0m\u001b[0;34m:\u001b[0m \u001b[0micon_color\u001b[0m \u001b[0;34m=\u001b[0m \u001b[0;34m'red'\u001b[0m\u001b[0;34m\u001b[0m\u001b[0m\n\u001b[1;32m     12\u001b[0m         \u001b[0mprint\u001b[0m\u001b[0;34m(\u001b[0m\u001b[0mtype\u001b[0m\u001b[0;34m(\u001b[0m\u001b[0mrow\u001b[0m\u001b[0;34m.\u001b[0m\u001b[0mdatestamp\u001b[0m\u001b[0;34m)\u001b[0m\u001b[0;34m)\u001b[0m\u001b[0;34m\u001b[0m\u001b[0m\n\u001b[0;32m---> 13\u001b[0;31m         \u001b[0;32mif\u001b[0m \u001b[0mrow\u001b[0m\u001b[0;34m.\u001b[0m\u001b[0mdatestamp\u001b[0m \u001b[0;34m>\u001b[0m \u001b[0mpd\u001b[0m\u001b[0;34m.\u001b[0m\u001b[0mTimestamp\u001b[0m\u001b[0;34m(\u001b[0m\u001b[0mdt\u001b[0m\u001b[0;34m.\u001b[0m\u001b[0mtime\u001b[0m\u001b[0;34m(\u001b[0m\u001b[0;34m'12:00'\u001b[0m\u001b[0;34m)\u001b[0m\u001b[0;34m)\u001b[0m\u001b[0;34m:\u001b[0m \u001b[0mcustom_icon\u001b[0m \u001b[0;34m=\u001b[0m \u001b[0mnight_icon\u001b[0m\u001b[0;34m\u001b[0m\u001b[0m\n\u001b[0m\u001b[1;32m     14\u001b[0m         folium.Marker(location=[row.Latitude, row.Longitude], popup=str(row.datestamp), \n\u001b[1;32m     15\u001b[0m                       icon=icon).add_to(m)\n",
      "\u001b[0;31mTypeError\u001b[0m: an integer is required (got type str)"
     ]
    }
   ],
   "source": [
    "create_folium_map(clean(ytd_orig))"
   ]
  },
  {
   "cell_type": "code",
   "execution_count": null,
   "metadata": {},
   "outputs": [],
   "source": []
  }
 ],
 "metadata": {
  "kernelspec": {
   "display_name": "Python 3",
   "language": "python",
   "name": "python3"
  },
  "language_info": {
   "codemirror_mode": {
    "name": "ipython",
    "version": 3
   },
   "file_extension": ".py",
   "mimetype": "text/x-python",
   "name": "python",
   "nbconvert_exporter": "python",
   "pygments_lexer": "ipython3",
   "version": "3.6.4"
  }
 },
 "nbformat": 4,
 "nbformat_minor": 2
}
